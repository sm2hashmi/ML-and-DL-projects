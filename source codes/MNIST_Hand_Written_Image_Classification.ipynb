{
  "nbformat": 4,
  "nbformat_minor": 0,
  "metadata": {
    "colab": {
      "provenance": []
    },
    "kernelspec": {
      "name": "python3",
      "display_name": "Python 3"
    },
    "language_info": {
      "name": "python"
    }
  },
  "cells": [
    {
      "cell_type": "code",
      "source": [
        "!pip install requests"
      ],
      "metadata": {
        "colab": {
          "base_uri": "https://localhost:8080/"
        },
        "id": "u0bXjl3O178i",
        "outputId": "fa6ee6bc-eeb2-4c2b-beec-cfa76b989a81"
      },
      "execution_count": 9,
      "outputs": [
        {
          "output_type": "stream",
          "name": "stdout",
          "text": [
            "Requirement already satisfied: requests in /usr/local/lib/python3.10/dist-packages (2.31.0)\n",
            "Requirement already satisfied: charset-normalizer<4,>=2 in /usr/local/lib/python3.10/dist-packages (from requests) (3.3.2)\n",
            "Requirement already satisfied: idna<4,>=2.5 in /usr/local/lib/python3.10/dist-packages (from requests) (3.7)\n",
            "Requirement already satisfied: urllib3<3,>=1.21.1 in /usr/local/lib/python3.10/dist-packages (from requests) (2.0.7)\n",
            "Requirement already satisfied: certifi>=2017.4.17 in /usr/local/lib/python3.10/dist-packages (from requests) (2024.7.4)\n"
          ]
        }
      ]
    },
    {
      "cell_type": "code",
      "execution_count": 10,
      "metadata": {
        "colab": {
          "base_uri": "https://localhost:8080/"
        },
        "id": "HqJfR_wfhxdH",
        "outputId": "1d587d83-23fd-4498-a1b6-da4b5c078e83"
      },
      "outputs": [
        {
          "output_type": "stream",
          "name": "stdout",
          "text": [
            "Download complete for mnist_train.zip.\n",
            "Download complete for mnist_test.zip.\n",
            "Extraction complete for mnist_train.zip.\n",
            "Extraction complete for mnist_test.zip.\n",
            "Files extracted: ['.config', 'mnist_test.zip', '.ipynb_checkpoints', 'mnist_train.csv', 'mnist_test.csv', 'mnist_train.zip', 'sample_data']\n",
            "   label  1x1  1x2  1x3  1x4  1x5  1x6  1x7  1x8  1x9  ...  28x19  28x20  \\\n",
            "0      5    0    0    0    0    0    0    0    0    0  ...      0      0   \n",
            "1      0    0    0    0    0    0    0    0    0    0  ...      0      0   \n",
            "2      4    0    0    0    0    0    0    0    0    0  ...      0      0   \n",
            "3      1    0    0    0    0    0    0    0    0    0  ...      0      0   \n",
            "4      9    0    0    0    0    0    0    0    0    0  ...      0      0   \n",
            "\n",
            "   28x21  28x22  28x23  28x24  28x25  28x26  28x27  28x28  \n",
            "0      0      0      0      0      0      0      0      0  \n",
            "1      0      0      0      0      0      0      0      0  \n",
            "2      0      0      0      0      0      0      0      0  \n",
            "3      0      0      0      0      0      0      0      0  \n",
            "4      0      0      0      0      0      0      0      0  \n",
            "\n",
            "[5 rows x 785 columns]\n",
            "   label  1x1  1x2  1x3  1x4  1x5  1x6  1x7  1x8  1x9  ...  28x19  28x20  \\\n",
            "0      7    0    0    0    0    0    0    0    0    0  ...      0      0   \n",
            "1      2    0    0    0    0    0    0    0    0    0  ...      0      0   \n",
            "2      1    0    0    0    0    0    0    0    0    0  ...      0      0   \n",
            "3      0    0    0    0    0    0    0    0    0    0  ...      0      0   \n",
            "4      4    0    0    0    0    0    0    0    0    0  ...      0      0   \n",
            "\n",
            "   28x21  28x22  28x23  28x24  28x25  28x26  28x27  28x28  \n",
            "0      0      0      0      0      0      0      0      0  \n",
            "1      0      0      0      0      0      0      0      0  \n",
            "2      0      0      0      0      0      0      0      0  \n",
            "3      0      0      0      0      0      0      0      0  \n",
            "4      0      0      0      0      0      0      0      0  \n",
            "\n",
            "[5 rows x 785 columns]\n"
          ]
        }
      ],
      "source": [
        "import pandas as pd\n",
        "import numpy as np\n",
        "from sklearn.model_selection import train_test_split\n",
        "from tensorflow.keras.utils import to_categorical\n",
        "import tensorflow as tf\n",
        "from tensorflow.keras.models import Sequential\n",
        "from tensorflow.keras.layers import Conv2D, MaxPooling2D, Flatten, Dense, Dropout\n",
        "import zipfile\n",
        "import requests\n",
        "import os\n",
        "\n",
        "# Define the URLs of the .7z files in your repository\n",
        "train_url = 'https://github.com/sm2hashmi/ML-and-DL-projects/raw/main/datasets/mnist_train.zip'\n",
        "test_url = 'https://github.com/sm2hashmi/ML-and-DL-projects/raw/main/datasets/mnist_test.zip'\n",
        "\n",
        "# Define the paths to save the downloaded .zip files\n",
        "train_zip_path = 'mnist_train.zip'\n",
        "test_zip_path = 'mnist_test.zip'\n",
        "\n",
        "# Download the .zip files\n",
        "def download_file(url, save_path):\n",
        "    response = requests.get(url)\n",
        "    if response.status_code == 200:\n",
        "        with open(save_path, 'wb') as file:\n",
        "            file.write(response.content)\n",
        "        print(f\"Download complete for {save_path}.\")\n",
        "    else:\n",
        "        print(f\"Failed to download file {save_path}. Status code:\", response.status_code)\n",
        "\n",
        "download_file(train_url, train_zip_path)\n",
        "download_file(test_url, test_zip_path)\n",
        "\n",
        "# Extract the .zip files\n",
        "def extract_zip(file_path, extract_path='.'):\n",
        "    if os.path.isfile(file_path):\n",
        "        try:\n",
        "            with zipfile.ZipFile(file_path, 'r') as zip_ref:\n",
        "                zip_ref.extractall(extract_path)\n",
        "            print(f\"Extraction complete for {file_path}.\")\n",
        "        except zipfile.BadZipFile:\n",
        "            print(f\"Error: The file {file_path} is not a valid zip archive.\")\n",
        "    else:\n",
        "        print(f\"Error: File {file_path} does not exist.\")\n",
        "\n",
        "extract_zip(train_zip_path)\n",
        "extract_zip(test_zip_path)\n",
        "\n",
        "# Verify the extracted files\n",
        "print(\"Files extracted:\", os.listdir('.'))\n",
        "\n",
        "# Load the datasets\n",
        "import pandas as pd\n",
        "\n",
        "train_df = pd.read_csv('mnist_train.csv')\n",
        "test_df = pd.read_csv('mnist_test.csv')\n",
        "\n",
        "# Check the first few rows of the dataframes\n",
        "print(train_df.head())\n",
        "print(test_df.head())\n",
        "\n"
      ]
    },
    {
      "cell_type": "code",
      "source": [
        "# Separate features and labels\n",
        "X_train = train_df.drop('label', axis=1).values\n",
        "y_train = train_df['label'].values\n",
        "X_test = test_df.drop('label', axis=1).values\n",
        "y_test = test_df['label'].values\n",
        "\n",
        "# Normalize the pixel values\n",
        "X_train = X_train / 255.0\n",
        "X_test = X_test / 255.0\n",
        "\n",
        "# Reshape the data to fit the model\n",
        "X_train = X_train.reshape(-1, 28, 28, 1)\n",
        "X_test = X_test.reshape(-1, 28, 28, 1)\n",
        "\n",
        "# One-hot encode the labels\n",
        "y_train = to_categorical(y_train, 10)\n",
        "y_test = to_categorical(y_test, 10)\n",
        "\n",
        "# Split the training data into training and validation sets\n",
        "X_train, X_val, y_train, y_val = train_test_split(X_train, y_train, test_size=0.2, random_state=42)\n",
        "\n",
        "X_train.shape, y_train.shape, X_val.shape, y_val.shape, X_test.shape, y_test.shape"
      ],
      "metadata": {
        "colab": {
          "base_uri": "https://localhost:8080/"
        },
        "id": "3Ug_Xam-2Mlk",
        "outputId": "ac4ec93a-5fdb-4d65-ea7f-191d0610d6a0"
      },
      "execution_count": 11,
      "outputs": [
        {
          "output_type": "execute_result",
          "data": {
            "text/plain": [
              "((48000, 28, 28, 1),\n",
              " (48000, 10),\n",
              " (12000, 28, 28, 1),\n",
              " (12000, 10),\n",
              " (10000, 28, 28, 1),\n",
              " (10000, 10))"
            ]
          },
          "metadata": {},
          "execution_count": 11
        }
      ]
    },
    {
      "cell_type": "code",
      "source": [
        "# Build the CNN model\n",
        "model = Sequential([\n",
        "    Conv2D(32, (3, 3), activation='relu', input_shape=(28, 28, 1)),\n",
        "    MaxPooling2D((2, 2)),\n",
        "    Conv2D(64, (3, 3), activation='relu'),\n",
        "    MaxPooling2D((2, 2)),\n",
        "    Conv2D(64, (3, 3), activation='relu'),\n",
        "    Flatten(),\n",
        "    Dense(64, activation='relu'),\n",
        "    Dropout(0.5),\n",
        "    Dense(10, activation='softmax')\n",
        "])\n",
        "\n",
        "# Compile the model\n",
        "model.compile(optimizer='adam',\n",
        "              loss='categorical_crossentropy',\n",
        "              metrics=['accuracy'])\n",
        "\n",
        "# Train the model\n",
        "history = model.fit(X_train, y_train, epochs=10, validation_data=(X_val, y_val))\n",
        "\n",
        "# Evaluate the model on the test set\n",
        "test_loss, test_acc = model.evaluate(X_test, y_test)\n",
        "\n",
        "test_loss, test_acc"
      ],
      "metadata": {
        "colab": {
          "base_uri": "https://localhost:8080/"
        },
        "id": "neMStuVBTpIc",
        "outputId": "fb51d053-d8f4-41e3-f13c-212ccce1f152"
      },
      "execution_count": 12,
      "outputs": [
        {
          "output_type": "stream",
          "name": "stdout",
          "text": [
            "Epoch 1/10\n",
            "1500/1500 [==============================] - 53s 35ms/step - loss: 0.2807 - accuracy: 0.9133 - val_loss: 0.0852 - val_accuracy: 0.9737\n",
            "Epoch 2/10\n",
            "1500/1500 [==============================] - 51s 34ms/step - loss: 0.0922 - accuracy: 0.9746 - val_loss: 0.0499 - val_accuracy: 0.9853\n",
            "Epoch 3/10\n",
            "1500/1500 [==============================] - 50s 33ms/step - loss: 0.0618 - accuracy: 0.9824 - val_loss: 0.0501 - val_accuracy: 0.9868\n",
            "Epoch 4/10\n",
            "1500/1500 [==============================] - 51s 34ms/step - loss: 0.0532 - accuracy: 0.9850 - val_loss: 0.0360 - val_accuracy: 0.9893\n",
            "Epoch 5/10\n",
            "1500/1500 [==============================] - 51s 34ms/step - loss: 0.0426 - accuracy: 0.9877 - val_loss: 0.0358 - val_accuracy: 0.9901\n",
            "Epoch 6/10\n",
            "1500/1500 [==============================] - 48s 32ms/step - loss: 0.0343 - accuracy: 0.9901 - val_loss: 0.0382 - val_accuracy: 0.9900\n",
            "Epoch 7/10\n",
            "1500/1500 [==============================] - 51s 34ms/step - loss: 0.0312 - accuracy: 0.9906 - val_loss: 0.0420 - val_accuracy: 0.9902\n",
            "Epoch 8/10\n",
            "1500/1500 [==============================] - 50s 33ms/step - loss: 0.0263 - accuracy: 0.9919 - val_loss: 0.0339 - val_accuracy: 0.9920\n",
            "Epoch 9/10\n",
            "1500/1500 [==============================] - 50s 34ms/step - loss: 0.0247 - accuracy: 0.9928 - val_loss: 0.0355 - val_accuracy: 0.9923\n",
            "Epoch 10/10\n",
            "1500/1500 [==============================] - 51s 34ms/step - loss: 0.0216 - accuracy: 0.9933 - val_loss: 0.0384 - val_accuracy: 0.9907\n",
            "313/313 [==============================] - 3s 9ms/step - loss: 0.0337 - accuracy: 0.9913\n"
          ]
        },
        {
          "output_type": "execute_result",
          "data": {
            "text/plain": [
              "(0.033705372363328934, 0.9912999868392944)"
            ]
          },
          "metadata": {},
          "execution_count": 12
        }
      ]
    },
    {
      "cell_type": "markdown",
      "source": [
        "The model's accuracy turns out to be 99.12%, making it very efficient at recognizing handwritten digits. The loss of 3.37% makes it decent enough when dealing with unseen data."
      ],
      "metadata": {
        "id": "1_GQYsSd4_g5"
      }
    }
  ]
}