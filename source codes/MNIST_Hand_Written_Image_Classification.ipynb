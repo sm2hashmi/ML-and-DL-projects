{
  "nbformat": 4,
  "nbformat_minor": 0,
  "metadata": {
    "colab": {
      "provenance": []
    },
    "kernelspec": {
      "name": "python3",
      "display_name": "Python 3"
    },
    "language_info": {
      "name": "python"
    }
  },
  "cells": [
    {
      "cell_type": "code",
      "execution_count": null,
      "metadata": {
        "colab": {
          "base_uri": "https://localhost:8080/"
        },
        "id": "HqJfR_wfhxdH",
        "outputId": "c04aaeea-b900-4cb8-e557-69195db0ae2f"
      },
      "outputs": [
        {
          "output_type": "execute_result",
          "data": {
            "text/plain": [
              "((48000, 28, 28, 1),\n",
              " (48000, 10),\n",
              " (12000, 28, 28, 1),\n",
              " (12000, 10),\n",
              " (10000, 28, 28, 1),\n",
              " (10000, 10))"
            ]
          },
          "metadata": {},
          "execution_count": 1
        }
      ],
      "source": [
        "import pandas as pd\n",
        "import numpy as np\n",
        "from sklearn.model_selection import train_test_split\n",
        "from tensorflow.keras.utils import to_categorical\n",
        "import tensorflow as tf\n",
        "from tensorflow.keras.models import Sequential\n",
        "from tensorflow.keras.layers import Conv2D, MaxPooling2D, Flatten, Dense, Dropout\n",
        "\n",
        "# Load the datasets\n",
        "train_df = pd.read_csv('mnist_train.csv')\n",
        "test_df = pd.read_csv('mnist_test.csv')\n",
        "\n",
        "# Separate features and labels\n",
        "X_train = train_df.drop('label', axis=1).values\n",
        "y_train = train_df['label'].values\n",
        "X_test = test_df.drop('label', axis=1).values\n",
        "y_test = test_df['label'].values\n",
        "\n",
        "# Normalize the pixel values\n",
        "X_train = X_train / 255.0\n",
        "X_test = X_test / 255.0\n",
        "\n",
        "# Reshape the data to fit the model\n",
        "X_train = X_train.reshape(-1, 28, 28, 1)\n",
        "X_test = X_test.reshape(-1, 28, 28, 1)\n",
        "\n",
        "# One-hot encode the labels\n",
        "y_train = to_categorical(y_train, 10)\n",
        "y_test = to_categorical(y_test, 10)\n",
        "\n",
        "# Split the training data into training and validation sets\n",
        "X_train, X_val, y_train, y_val = train_test_split(X_train, y_train, test_size=0.2, random_state=42)\n",
        "\n",
        "X_train.shape, y_train.shape, X_val.shape, y_val.shape, X_test.shape, y_test.shape"
      ]
    },
    {
      "cell_type": "code",
      "source": [
        "# Build the CNN model\n",
        "model = Sequential([\n",
        "    Conv2D(32, (3, 3), activation='relu', input_shape=(28, 28, 1)),\n",
        "    MaxPooling2D((2, 2)),\n",
        "    Conv2D(64, (3, 3), activation='relu'),\n",
        "    MaxPooling2D((2, 2)),\n",
        "    Conv2D(64, (3, 3), activation='relu'),\n",
        "    Flatten(),\n",
        "    Dense(64, activation='relu'),\n",
        "    Dropout(0.5),\n",
        "    Dense(10, activation='softmax')\n",
        "])\n",
        "\n",
        "# Compile the model\n",
        "model.compile(optimizer='adam',\n",
        "              loss='categorical_crossentropy',\n",
        "              metrics=['accuracy'])\n",
        "\n",
        "# Train the model\n",
        "history = model.fit(X_train, y_train, epochs=10, validation_data=(X_val, y_val))\n",
        "\n",
        "# Evaluate the model on the test set\n",
        "test_loss, test_acc = model.evaluate(X_test, y_test)\n",
        "\n",
        "test_loss, test_acc"
      ],
      "metadata": {
        "colab": {
          "base_uri": "https://localhost:8080/"
        },
        "id": "neMStuVBTpIc",
        "outputId": "cc622686-10e7-4930-d780-23104735b1a7"
      },
      "execution_count": null,
      "outputs": [
        {
          "output_type": "stream",
          "name": "stdout",
          "text": [
            "Epoch 1/10\n",
            "1500/1500 [==============================] - 52s 34ms/step - loss: 0.3034 - accuracy: 0.9078 - val_loss: 0.0638 - val_accuracy: 0.9809\n",
            "Epoch 2/10\n",
            "1500/1500 [==============================] - 50s 34ms/step - loss: 0.0974 - accuracy: 0.9727 - val_loss: 0.0450 - val_accuracy: 0.9868\n",
            "Epoch 3/10\n",
            "1500/1500 [==============================] - 47s 32ms/step - loss: 0.0718 - accuracy: 0.9791 - val_loss: 0.0400 - val_accuracy: 0.9887\n",
            "Epoch 4/10\n",
            "1500/1500 [==============================] - 50s 33ms/step - loss: 0.0550 - accuracy: 0.9845 - val_loss: 0.0475 - val_accuracy: 0.9868\n",
            "Epoch 5/10\n",
            "1500/1500 [==============================] - 47s 31ms/step - loss: 0.0457 - accuracy: 0.9877 - val_loss: 0.0432 - val_accuracy: 0.9875\n",
            "Epoch 6/10\n",
            "1500/1500 [==============================] - 48s 32ms/step - loss: 0.0387 - accuracy: 0.9893 - val_loss: 0.0403 - val_accuracy: 0.9900\n",
            "Epoch 7/10\n",
            "1500/1500 [==============================] - 48s 32ms/step - loss: 0.0320 - accuracy: 0.9910 - val_loss: 0.0388 - val_accuracy: 0.9907\n",
            "Epoch 8/10\n",
            "1500/1500 [==============================] - 47s 31ms/step - loss: 0.0285 - accuracy: 0.9919 - val_loss: 0.0414 - val_accuracy: 0.9911\n",
            "Epoch 9/10\n",
            "1500/1500 [==============================] - 49s 33ms/step - loss: 0.0248 - accuracy: 0.9926 - val_loss: 0.0435 - val_accuracy: 0.9902\n",
            "Epoch 10/10\n",
            "1500/1500 [==============================] - 50s 33ms/step - loss: 0.0205 - accuracy: 0.9939 - val_loss: 0.0473 - val_accuracy: 0.9912\n",
            "313/313 [==============================] - 4s 12ms/step - loss: 0.0359 - accuracy: 0.9927\n"
          ]
        },
        {
          "output_type": "execute_result",
          "data": {
            "text/plain": [
              "(0.03586764261126518, 0.9926999807357788)"
            ]
          },
          "metadata": {},
          "execution_count": 2
        }
      ]
    }
  ]
}